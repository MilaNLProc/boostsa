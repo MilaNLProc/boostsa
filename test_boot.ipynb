{
 "cells": [
  {
   "cell_type": "code",
   "execution_count": 1,
   "metadata": {
    "scrolled": false
   },
   "outputs": [
    {
     "name": "stderr",
     "output_type": "stream",
     "text": [
      "bootstrap:  14%|████▏                         | 14/100 [00:00<00:00, 138.39it/s]"
     ]
    },
    {
     "name": "stdout",
     "output_type": "stream",
     "text": [
      "total size............... 1000\n",
      "sample size.............. 100\n"
     ]
    },
    {
     "name": "stderr",
     "output_type": "stream",
     "text": [
      "bootstrap: 100%|█████████████████████████████| 100/100 [00:00<00:00, 135.10it/s]"
     ]
    },
    {
     "name": "stdout",
     "output_type": "stream",
     "text": [
      "count sample diff f1   is twice tot diff f1....... 11   / 100     p < 0.11   \u001b[38;5;9m\u001b[0m\n",
      "count sample diff acc  is twice tot diff acc...... 18   / 100     p < 0.18   \u001b[38;5;9m\u001b[0m\n",
      "count sample diff prec is twice tot diff prec..... 25   / 100     p < 0.25   \u001b[38;5;9m\u001b[0m\n",
      "count sample diff rec  is twice tot diff rec ..... 12   / 100     p < 0.12   \u001b[38;5;9m\u001b[0m\n"
     ]
    },
    {
     "name": "stderr",
     "output_type": "stream",
     "text": [
      "\n"
     ]
    },
    {
     "data": {
      "text/html": [
       "<div>\n",
       "<style scoped>\n",
       "    .dataframe tbody tr th:only-of-type {\n",
       "        vertical-align: middle;\n",
       "    }\n",
       "\n",
       "    .dataframe tbody tr th {\n",
       "        vertical-align: top;\n",
       "    }\n",
       "\n",
       "    .dataframe thead th {\n",
       "        text-align: right;\n",
       "    }\n",
       "</style>\n",
       "<table border=\"1\" class=\"dataframe\">\n",
       "  <thead>\n",
       "    <tr style=\"text-align: right;\">\n",
       "      <th></th>\n",
       "      <th>f1</th>\n",
       "      <th>diff_f1</th>\n",
       "      <th>sign_f1</th>\n",
       "      <th>acc</th>\n",
       "      <th>diff_acc</th>\n",
       "      <th>sign_acc</th>\n",
       "      <th>prec</th>\n",
       "      <th>diff_prec</th>\n",
       "      <th>sign_prec</th>\n",
       "      <th>rec</th>\n",
       "      <th>diff_rec</th>\n",
       "      <th>sign_rec</th>\n",
       "    </tr>\n",
       "  </thead>\n",
       "  <tbody>\n",
       "    <tr>\n",
       "      <th>h0</th>\n",
       "      <td>67.76</td>\n",
       "      <td></td>\n",
       "      <td></td>\n",
       "      <td>69.0</td>\n",
       "      <td></td>\n",
       "      <td></td>\n",
       "      <td>69.94</td>\n",
       "      <td></td>\n",
       "      <td></td>\n",
       "      <td>67.96</td>\n",
       "      <td></td>\n",
       "      <td></td>\n",
       "    </tr>\n",
       "    <tr>\n",
       "      <th>h1</th>\n",
       "      <td>74.07</td>\n",
       "      <td>6.31</td>\n",
       "      <td></td>\n",
       "      <td>74.1</td>\n",
       "      <td>5.1</td>\n",
       "      <td></td>\n",
       "      <td>74.10</td>\n",
       "      <td>4.16</td>\n",
       "      <td></td>\n",
       "      <td>74.22</td>\n",
       "      <td>6.26</td>\n",
       "      <td></td>\n",
       "    </tr>\n",
       "  </tbody>\n",
       "</table>\n",
       "</div>"
      ],
      "text/plain": [
       "       f1 diff_f1 sign_f1   acc diff_acc sign_acc   prec diff_prec sign_prec  \\\n",
       "h0  67.76                  69.0                    69.94                       \n",
       "h1  74.07    6.31          74.1      5.1           74.10      4.16             \n",
       "\n",
       "      rec diff_rec sign_rec  \n",
       "h0  67.96                    \n",
       "h1  74.22     6.26           "
      ]
     },
     "execution_count": 1,
     "metadata": {},
     "output_type": "execute_result"
    }
   ],
   "source": [
    "from boostsa import Bootstrap\n",
    "\n",
    "boot = Bootstrap()\n",
    "\n",
    "boot.test(targs='test_boot/h0.0/targs.txt', h0_preds='test_boot/h0.0/preds.txt', h1_preds='test_boot/h1.0/preds.txt')"
   ]
  },
  {
   "cell_type": "code",
   "execution_count": 2,
   "metadata": {
    "scrolled": false
   },
   "outputs": [
    {
     "name": "stderr",
     "output_type": "stream",
     "text": [
      "\r",
      "bootstrap:   0%|                                       | 0/1000 [00:00<?, ?it/s]"
     ]
    },
    {
     "name": "stdout",
     "output_type": "stream",
     "text": [
      "################################################################################\n",
      "start: 2021/02/09 18:58:27\n",
      "################################################################################\n",
      "h0.0                                                         acc 69.0    F 67.76\n",
      "h0.1                                                         acc 72.6    F 72.59\n",
      "################################################################################\n",
      "h0   vs   h1\n",
      "h1.0                                                         acc 74.1    F 74.07\n",
      "h1.1                                                         acc 73.0    F 72.99\n",
      "total size............... 2000\n",
      "sample size.............. 400\n",
      "targs count:              ['class 0 freq 930 perc 46.50%', 'class 1 freq 1070 perc 53.50%']\n",
      "h0 preds count:           ['class 0 freq 892 perc 44.60%', 'class 1 freq 1108 perc 55.40%']\n",
      "h1 preds count:           ['class 0 freq 1051 perc 52.55%', 'class 1 freq 949 perc 47.45%']\n",
      "h0 F-measure............. 70.57   h1 F-measure............. 73.55   diff... 2.98\n",
      "h0 accuracy.............. 70.8    h1 accuracy.............. 73.55   diff... 2.75\n",
      "h0 precision............. 70.66   h1 precision............. 73.79   diff... 3.13\n",
      "h0 recall................ 70.52   h1 recall................ 73.85   diff... 3.33\n"
     ]
    },
    {
     "name": "stderr",
     "output_type": "stream",
     "text": [
      "bootstrap: 100%|████████████████████████████| 1000/1000 [00:10<00:00, 99.81it/s]\n",
      "bootstrap:   0%|                                       | 0/1000 [00:00<?, ?it/s]"
     ]
    },
    {
     "name": "stdout",
     "output_type": "stream",
     "text": [
      "count sample diff f1   is twice tot diff f1....... 51   / 1000    p < 0.051  \u001b[38;5;9m\u001b[0m\n",
      "count sample diff acc  is twice tot diff acc...... 59   / 1000    p < 0.059  \u001b[38;5;9m\u001b[0m\n",
      "count sample diff prec is twice tot diff prec..... 43   / 1000    p < 0.043  \u001b[38;5;9m*\u001b[0m\n",
      "count sample diff rec  is twice tot diff rec ..... 36   / 1000    p < 0.036  \u001b[38;5;9m*\u001b[0m\n",
      "   mean_epochs    acc diff_acc sign_acc   prec diff_prec sign_prec    rec diff_rec sign_rec     f1 diff_f1 sign_f1\n",
      "h0        None  70.80                    70.66                      70.52                    70.57                \n",
      "h1        None  73.55     2.75           73.79      3.13         *  73.85     3.33        *  73.55    2.98        \n",
      "################################################################################\n",
      "end: 2021/02/09 18:58:37  - time elapsed: 00:00:10\n",
      "################################################################################\n",
      "\n",
      "\n",
      "\n",
      "\n",
      "################################################################################\n",
      "start: 2021/02/09 18:58:37\n",
      "################################################################################\n",
      "h0.0                                                         acc 69.0    F 67.76\n",
      "h0.1                                                         acc 72.6    F 72.59\n",
      "################################################################################\n",
      "h0   vs   h1\n",
      "h1.0                                                         acc 74.1    F 74.07\n",
      "h1.1                                                         acc 73.0    F 72.99\n",
      "total size............... 2000\n",
      "sample size.............. 400\n",
      "targs count:              ['class 0 freq 930 perc 46.50%', 'class 1 freq 1070 perc 53.50%']\n",
      "h0 preds count:           ['class 0 freq 892 perc 44.60%', 'class 1 freq 1108 perc 55.40%']\n",
      "h1 preds count:           ['class 0 freq 1051 perc 52.55%', 'class 1 freq 949 perc 47.45%']\n",
      "h0 F-measure............. 70.57   h1 F-measure............. 73.55   diff... 2.98\n",
      "h0 accuracy.............. 70.8    h1 accuracy.............. 73.55   diff... 2.75\n",
      "h0 precision............. 70.66   h1 precision............. 73.79   diff... 3.13\n",
      "h0 recall................ 70.52   h1 recall................ 73.85   diff... 3.33\n"
     ]
    },
    {
     "name": "stderr",
     "output_type": "stream",
     "text": [
      "bootstrap: 100%|███████████████████████████| 1000/1000 [00:08<00:00, 119.00it/s]\n",
      "bootstrap:   1%|▎                            | 11/1000 [00:00<00:09, 104.60it/s]"
     ]
    },
    {
     "name": "stdout",
     "output_type": "stream",
     "text": [
      "count sample diff f1   is twice tot diff f1....... 64   / 1000    p < 0.064  \u001b[38;5;9m\u001b[0m\n",
      "count sample diff acc  is twice tot diff acc...... 78   / 1000    p < 0.078  \u001b[38;5;9m\u001b[0m\n",
      "count sample diff prec is twice tot diff prec..... 54   / 1000    p < 0.054  \u001b[38;5;9m\u001b[0m\n",
      "count sample diff rec  is twice tot diff rec ..... 41   / 1000    p < 0.041  \u001b[38;5;9m*\u001b[0m\n",
      "################################################################################\n",
      "h0   vs   h2\n",
      "h2.0                                                         acc 71.7    F 71.32\n",
      "h2.1                                                         acc 71.4    F 71.2\n",
      "total size............... 2000\n",
      "sample size.............. 400\n",
      "targs count:              ['class 0 freq 930 perc 46.50%', 'class 1 freq 1070 perc 53.50%']\n",
      "h0 preds count:           ['class 0 freq 892 perc 44.60%', 'class 1 freq 1108 perc 55.40%']\n",
      "h2 preds count:           ['class 0 freq 871 perc 43.55%', 'class 1 freq 1129 perc 56.45%']\n",
      "h0 F-measure............. 70.57   h2 F-measure............. 71.27   diff... 0.7\n",
      "h0 accuracy.............. 70.8    h2 accuracy.............. 71.55   diff... 0.75\n",
      "h0 precision............. 70.66   h2 precision............. 71.46   diff... 0.8\n",
      "h0 recall................ 70.52   h2 recall................ 71.2    diff... 0.68\n"
     ]
    },
    {
     "name": "stderr",
     "output_type": "stream",
     "text": [
      "bootstrap: 100%|███████████████████████████| 1000/1000 [00:08<00:00, 122.24it/s]"
     ]
    },
    {
     "name": "stdout",
     "output_type": "stream",
     "text": [
      "count sample diff f1   is twice tot diff f1....... 375  / 1000    p < 0.375  \u001b[38;5;9m\u001b[0m\n",
      "count sample diff acc  is twice tot diff acc...... 340  / 1000    p < 0.34   \u001b[38;5;9m\u001b[0m\n",
      "count sample diff prec is twice tot diff prec..... 350  / 1000    p < 0.35   \u001b[38;5;9m\u001b[0m\n",
      "count sample diff rec  is twice tot diff rec ..... 376  / 1000    p < 0.376  \u001b[38;5;9m\u001b[0m\n",
      "   mean_epochs    acc diff_acc sign_acc   prec diff_prec sign_prec    rec diff_rec sign_rec     f1 diff_f1 sign_f1\n",
      "h0        None  70.80                    70.66                      70.52                    70.57                \n",
      "h1        None  73.55     2.75           73.79      3.13            73.85     3.33        *  73.55    2.98        \n",
      "h2        None  71.55     0.75           71.46       0.8            71.20     0.68           71.27     0.7        \n",
      "################################################################################\n",
      "end: 2021/02/09 18:58:54  - time elapsed: 00:00:16\n",
      "################################################################################\n"
     ]
    },
    {
     "name": "stderr",
     "output_type": "stream",
     "text": [
      "\n"
     ]
    },
    {
     "data": {
      "text/html": [
       "<div>\n",
       "<style scoped>\n",
       "    .dataframe tbody tr th:only-of-type {\n",
       "        vertical-align: middle;\n",
       "    }\n",
       "\n",
       "    .dataframe tbody tr th {\n",
       "        vertical-align: top;\n",
       "    }\n",
       "\n",
       "    .dataframe thead th {\n",
       "        text-align: right;\n",
       "    }\n",
       "</style>\n",
       "<table border=\"1\" class=\"dataframe\">\n",
       "  <thead>\n",
       "    <tr style=\"text-align: right;\">\n",
       "      <th></th>\n",
       "      <th>mean_epochs</th>\n",
       "      <th>acc</th>\n",
       "      <th>diff_acc</th>\n",
       "      <th>sign_acc</th>\n",
       "      <th>prec</th>\n",
       "      <th>diff_prec</th>\n",
       "      <th>sign_prec</th>\n",
       "      <th>rec</th>\n",
       "      <th>diff_rec</th>\n",
       "      <th>sign_rec</th>\n",
       "      <th>f1</th>\n",
       "      <th>diff_f1</th>\n",
       "      <th>sign_f1</th>\n",
       "    </tr>\n",
       "  </thead>\n",
       "  <tbody>\n",
       "    <tr>\n",
       "      <th>h0</th>\n",
       "      <td>None</td>\n",
       "      <td>70.80</td>\n",
       "      <td></td>\n",
       "      <td></td>\n",
       "      <td>70.66</td>\n",
       "      <td></td>\n",
       "      <td></td>\n",
       "      <td>70.52</td>\n",
       "      <td></td>\n",
       "      <td></td>\n",
       "      <td>70.57</td>\n",
       "      <td></td>\n",
       "      <td></td>\n",
       "    </tr>\n",
       "    <tr>\n",
       "      <th>h1</th>\n",
       "      <td>None</td>\n",
       "      <td>73.55</td>\n",
       "      <td>2.75</td>\n",
       "      <td></td>\n",
       "      <td>73.79</td>\n",
       "      <td>3.13</td>\n",
       "      <td></td>\n",
       "      <td>73.85</td>\n",
       "      <td>3.33</td>\n",
       "      <td>*</td>\n",
       "      <td>73.55</td>\n",
       "      <td>2.98</td>\n",
       "      <td></td>\n",
       "    </tr>\n",
       "    <tr>\n",
       "      <th>h2</th>\n",
       "      <td>None</td>\n",
       "      <td>71.55</td>\n",
       "      <td>0.75</td>\n",
       "      <td></td>\n",
       "      <td>71.46</td>\n",
       "      <td>0.8</td>\n",
       "      <td></td>\n",
       "      <td>71.20</td>\n",
       "      <td>0.68</td>\n",
       "      <td></td>\n",
       "      <td>71.27</td>\n",
       "      <td>0.7</td>\n",
       "      <td></td>\n",
       "    </tr>\n",
       "  </tbody>\n",
       "</table>\n",
       "</div>"
      ],
      "text/plain": [
       "   mean_epochs    acc diff_acc sign_acc   prec diff_prec sign_prec    rec  \\\n",
       "h0        None  70.80                    70.66                      70.52   \n",
       "h1        None  73.55     2.75           73.79      3.13            73.85   \n",
       "h2        None  71.55     0.75           71.46       0.8            71.20   \n",
       "\n",
       "   diff_rec sign_rec     f1 diff_f1 sign_f1  \n",
       "h0                    70.57                  \n",
       "h1     3.33        *  73.55    2.98          \n",
       "h2     0.68           71.27     0.7          "
      ]
     },
     "execution_count": 2,
     "metadata": {},
     "output_type": "execute_result"
    }
   ],
   "source": [
    "boot = Bootstrap()\n",
    "\n",
    "boot.feed(h0='h0',          exp_idx='h0.0', preds='test_boot/h0.0/preds.txt', targs='test_boot/h0.0/targs.txt', idxs='test_boot/h0.0/idxs.txt')\n",
    "boot.feed(h0='h0',          exp_idx='h0.1', preds='test_boot/h0.1/preds.txt', targs='test_boot/h0.1/targs.txt', idxs='test_boot/h0.1/idxs.txt')\n",
    "boot.feed(h0='h0', h1='h1', exp_idx='h1.0', preds='test_boot/h1.0/preds.txt', targs='test_boot/h1.0/targs.txt', idxs='test_boot/h1.0/idxs.txt')\n",
    "boot.feed(h0='h0', h1='h1', exp_idx='h1.1', preds='test_boot/h1.1/preds.txt', targs='test_boot/h1.1/targs.txt', idxs='test_boot/h1.1/idxs.txt')\n",
    "boot.run(n_loops=1000, sample_size=.2, verbose=True)\n",
    "\n",
    "print(\"\\n\\n\\n\")\n",
    "\n",
    "next_boot = Bootstrap()\n",
    "next_boot.loadjson('outcomes.json')\n",
    "\n",
    "next_boot.feed(h0='h0', h1='h2', exp_idx='h2.0', preds='test_boot/h2.0/preds.txt', targs='test_boot/h2.0/targs.txt', idxs='test_boot/h2.0/idxs.txt')\n",
    "next_boot.feed(h0='h0', h1='h2', exp_idx='h2.1', preds='test_boot/h2.1/preds.txt', targs='test_boot/h2.1/targs.txt', idxs='test_boot/h2.1/idxs.txt')\n",
    "next_boot.run(n_loops=1000, sample_size=.2, verbose=True)\n"
   ]
  },
  {
   "cell_type": "code",
   "execution_count": null,
   "metadata": {},
   "outputs": [],
   "source": []
  },
  {
   "cell_type": "code",
   "execution_count": null,
   "metadata": {},
   "outputs": [],
   "source": []
  }
 ],
 "metadata": {
  "kernelspec": {
   "display_name": "Python 3",
   "language": "python",
   "name": "python3"
  },
  "language_info": {
   "codemirror_mode": {
    "name": "ipython",
    "version": 3
   },
   "file_extension": ".py",
   "mimetype": "text/x-python",
   "name": "python",
   "nbconvert_exporter": "python",
   "pygments_lexer": "ipython3",
   "version": "3.7.4"
  }
 },
 "nbformat": 4,
 "nbformat_minor": 4
}
